{
 "cells": [
  {
   "cell_type": "markdown",
   "metadata": {},
   "source": [
    "# NLP Companion"
   ]
  },
  {
   "cell_type": "markdown",
   "metadata": {},
   "source": [
    "## Acessando corpus do NLTK"
   ]
  },
  {
   "cell_type": "code",
   "execution_count": 59,
   "metadata": {},
   "outputs": [],
   "source": [
    "from nltk.corpus import machado\n",
    "import pandas as pd"
   ]
  },
  {
   "cell_type": "code",
   "execution_count": 41,
   "metadata": {},
   "outputs": [
    {
     "name": "stdout",
     "output_type": "stream",
     "text": [
      " tem razão. Geralmente são arrebiques de dama elegante,\n",
      "  que se vê ou se crê bonita, e quer assim realçar as graças naturais. Eu fujo e\n",
      "  benzo-me três vezes quando encaro alguns desses prefácios contritos e singelos,\n",
      "  que trazem os olhos no pó da sua humildade, e o coração nos píncaros da sua\n",
      "  ambição. Quem só lhes vê os olhos, e lhes diz verdade que amargue, arrisca-se a\n",
      "  descair no conceito do autor, sem embargo da humildade que ele mesmo confessou,\n",
      "  e da justiça que pediu.\n",
      "\n",
      "Ora pois, eu\n"
     ]
    }
   ],
   "source": [
    "text = machado.raw('romance/marm01.txt')[1000:1500]\n",
    "print(text)"
   ]
  },
  {
   "cell_type": "markdown",
   "metadata": {},
   "source": [
    "## Tokenization"
   ]
  },
  {
   "cell_type": "code",
   "execution_count": 38,
   "metadata": {},
   "outputs": [
    {
     "name": "stdout",
     "output_type": "stream",
     "text": [
      "['tem', 'razão.', 'Geralmente', 'são', 'arrebiques', 'de', 'dama', 'elegante,', 'que', 'se', 'vê', 'ou', 'se', 'crê', 'bonita,', 'e', 'quer', 'assim', 'realçar', 'as', 'graças', 'naturais.', 'Eu', 'fujo', 'e', 'benzo-me', 'três', 'vezes', 'quando', 'encaro', 'alguns', 'desses', 'prefácios', 'contritos', 'e', 'singelos,', 'que', 'trazem', 'os', 'olhos', 'no', 'pó', 'da', 'sua', 'humildade,', 'e', 'o', 'coração', 'nos', 'píncaros', 'da', 'sua', 'ambição.', 'Quem', 'só', 'lhes', 'vê', 'os', 'olhos,', 'e', 'lhes', 'diz', 'verdade', 'que', 'amargue,', 'arrisca-se', 'a', 'descair', 'no', 'conceito', 'do', 'autor,', 'sem', 'embargo', 'da', 'humildade', 'que', 'ele', 'mesmo', 'confessou,', 'e', 'da', 'justiça', 'que', 'pediu.', 'Ora', 'pois,', 'eu']\n"
     ]
    }
   ],
   "source": [
    "from nltk.tokenize import word_tokenize\n",
    "words_spl = text.split()\n",
    "print(words_spl)"
   ]
  },
  {
   "cell_type": "code",
   "execution_count": 39,
   "metadata": {},
   "outputs": [
    {
     "name": "stdout",
     "output_type": "stream",
     "text": [
      "['tem', 'razão', '.', 'Geralmente', 'são', 'arrebiques', 'de', 'dama', 'elegante', ',', 'que', 'se', 'vê', 'ou', 'se', 'crê', 'bonita', ',', 'e', 'quer', 'assim', 'realçar', 'as', 'graças', 'naturais', '.', 'Eu', 'fujo', 'e', 'benzo-me', 'três', 'vezes', 'quando', 'encaro', 'alguns', 'desses', 'prefácios', 'contritos', 'e', 'singelos', ',', 'que', 'trazem', 'os', 'olhos', 'no', 'pó', 'da', 'sua', 'humildade', ',', 'e', 'o', 'coração', 'nos', 'píncaros', 'da', 'sua', 'ambição', '.', 'Quem', 'só', 'lhes', 'vê', 'os', 'olhos', ',', 'e', 'lhes', 'diz', 'verdade', 'que', 'amargue', ',', 'arrisca-se', 'a', 'descair', 'no', 'conceito', 'do', 'autor', ',', 'sem', 'embargo', 'da', 'humildade', 'que', 'ele', 'mesmo', 'confessou', ',', 'e', 'da', 'justiça', 'que', 'pediu', '.', 'Ora', 'pois', ',', 'eu']\n"
     ]
    }
   ],
   "source": [
    "words_tkn = word_tokenize(text)\n",
    "print(words_tkn)"
   ]
  },
  {
   "cell_type": "markdown",
   "metadata": {},
   "source": [
    "## Stemming"
   ]
  },
  {
   "cell_type": "code",
   "execution_count": 42,
   "metadata": {},
   "outputs": [],
   "source": [
    "from nltk.stem import RSLPStemmer"
   ]
  },
  {
   "cell_type": "code",
   "execution_count": 51,
   "metadata": {},
   "outputs": [
    {
     "name": "stdout",
     "output_type": "stream",
     "text": [
      "['tem', 'ra', '.', 'geral', 'são', 'arrebiqu', 'de', 'dam', 'eleg', ',', 'que', 'se', 'vê', 'ou', 'se', 'crê', 'bonit', ',', 'e', 'qu', 'assim', 'realç', 'as', 'graç', 'natur', '.', 'eu', 'fuj', 'e', 'benzo-m', 'trê', 'vez', 'qu', 'encar', 'algum', 'dess', 'prefáci', 'contrit', 'e', 'singel', ',', 'que', 'traz', 'os', 'olh', 'no', 'pó', 'da', 'sua', 'humildad', ',', 'e', 'o', 'coraçã', 'no', 'píncar', 'da', 'sua', 'amb', '.', 'qu', 'só', 'lhe', 'vê', 'os', 'olh', ',', 'e', 'lhe', 'diz', 'verdad', 'que', 'amarg', ',', 'arrisca-s', 'a', 'desca', 'no', 'conceit', 'do', 'autor', ',', 'sem', 'embarg', 'da', 'humildad', 'que', 'ele', 'mesm', 'confess', ',', 'e', 'da', 'justiç', 'que', 'ped', '.', 'ora', 'poi', ',', 'eu']\n"
     ]
    }
   ],
   "source": [
    "stemmer = RSLPStemmer()\n",
    "words_stm = [stemmer.stem(word) for word in words_tkn]\n",
    "print(words_stm)"
   ]
  },
  {
   "cell_type": "markdown",
   "metadata": {},
   "source": [
    "## Lemmatization"
   ]
  },
  {
   "cell_type": "markdown",
   "metadata": {},
   "source": [
    "A biblioteca NLTK não possui um lemmatizador para Português do Brasil. Felizmente, existe um léxico chamado [SentiLex](http://xldb.fc.ul.pt/wiki/SentiLex-PT01) que possui o dicionário de lemas para o idioma."
   ]
  },
  {
   "cell_type": "code",
   "execution_count": 72,
   "metadata": {},
   "outputs": [
    {
     "data": {
      "text/html": [
       "<div>\n",
       "<style scoped>\n",
       "    .dataframe tbody tr th:only-of-type {\n",
       "        vertical-align: middle;\n",
       "    }\n",
       "\n",
       "    .dataframe tbody tr th {\n",
       "        vertical-align: top;\n",
       "    }\n",
       "\n",
       "    .dataframe thead th {\n",
       "        text-align: right;\n",
       "    }\n",
       "</style>\n",
       "<table border=\"1\" class=\"dataframe\">\n",
       "  <thead>\n",
       "    <tr style=\"text-align: right;\">\n",
       "      <th></th>\n",
       "      <th>Word</th>\n",
       "      <th>GN</th>\n",
       "      <th>TG</th>\n",
       "      <th>Pol</th>\n",
       "      <th>Anot</th>\n",
       "    </tr>\n",
       "  </thead>\n",
       "  <tbody>\n",
       "    <tr>\n",
       "      <th>0</th>\n",
       "      <td>abafada,abafado.PoS=Adj</td>\n",
       "      <td>GN=fs</td>\n",
       "      <td>TG=HUM</td>\n",
       "      <td>POL=-1</td>\n",
       "      <td>ANOT=JALC</td>\n",
       "    </tr>\n",
       "    <tr>\n",
       "      <th>1</th>\n",
       "      <td>abafadas,abafado.PoS=Adj</td>\n",
       "      <td>GN=fp</td>\n",
       "      <td>TG=HUM</td>\n",
       "      <td>POL=-1</td>\n",
       "      <td>ANOT=JALC</td>\n",
       "    </tr>\n",
       "    <tr>\n",
       "      <th>2</th>\n",
       "      <td>abafado,abafado.PoS=Adj</td>\n",
       "      <td>GN=ms</td>\n",
       "      <td>TG=HUM</td>\n",
       "      <td>POL=-1</td>\n",
       "      <td>ANOT=JALC</td>\n",
       "    </tr>\n",
       "    <tr>\n",
       "      <th>3</th>\n",
       "      <td>abafados,abafado.PoS=Adj</td>\n",
       "      <td>GN=mp</td>\n",
       "      <td>TG=HUM</td>\n",
       "      <td>POL=-1</td>\n",
       "      <td>ANOT=JALC</td>\n",
       "    </tr>\n",
       "    <tr>\n",
       "      <th>4</th>\n",
       "      <td>abafante,abafante.PoS=Adj</td>\n",
       "      <td>GN=fs</td>\n",
       "      <td>TG=HUM</td>\n",
       "      <td>POL=-1</td>\n",
       "      <td>ANOT=MAN</td>\n",
       "    </tr>\n",
       "  </tbody>\n",
       "</table>\n",
       "</div>"
      ],
      "text/plain": [
       "                        Word     GN      TG     Pol       Anot\n",
       "0    abafada,abafado.PoS=Adj  GN=fs  TG=HUM  POL=-1  ANOT=JALC\n",
       "1   abafadas,abafado.PoS=Adj  GN=fp  TG=HUM  POL=-1  ANOT=JALC\n",
       "2    abafado,abafado.PoS=Adj  GN=ms  TG=HUM  POL=-1  ANOT=JALC\n",
       "3   abafados,abafado.PoS=Adj  GN=mp  TG=HUM  POL=-1  ANOT=JALC\n",
       "4  abafante,abafante.PoS=Adj  GN=fs  TG=HUM  POL=-1   ANOT=MAN"
      ]
     },
     "metadata": {},
     "output_type": "display_data"
    }
   ],
   "source": [
    "sentiLex = pd.read_csv('SentiLex-PT01/SentiLex-flex-PT01.txt', sep = ';', names=['Word', 'GN', \"TG\", \"Pol\", \"Anot\"])\n",
    "display(sentiLex.head(5))"
   ]
  },
  {
   "cell_type": "code",
   "execution_count": 73,
   "metadata": {},
   "outputs": [
    {
     "data": {
      "text/html": [
       "<div>\n",
       "<style scoped>\n",
       "    .dataframe tbody tr th:only-of-type {\n",
       "        vertical-align: middle;\n",
       "    }\n",
       "\n",
       "    .dataframe tbody tr th {\n",
       "        vertical-align: top;\n",
       "    }\n",
       "\n",
       "    .dataframe thead th {\n",
       "        text-align: right;\n",
       "    }\n",
       "</style>\n",
       "<table border=\"1\" class=\"dataframe\">\n",
       "  <thead>\n",
       "    <tr style=\"text-align: right;\">\n",
       "      <th></th>\n",
       "      <th>Word</th>\n",
       "      <th>GN</th>\n",
       "      <th>TG</th>\n",
       "      <th>Pol</th>\n",
       "      <th>Anot</th>\n",
       "      <th>WordLem</th>\n",
       "    </tr>\n",
       "  </thead>\n",
       "  <tbody>\n",
       "    <tr>\n",
       "      <th>0</th>\n",
       "      <td>abafada</td>\n",
       "      <td>GN=fs</td>\n",
       "      <td>TG=HUM</td>\n",
       "      <td>-1</td>\n",
       "      <td>ANOT=JALC</td>\n",
       "      <td>abafado</td>\n",
       "    </tr>\n",
       "    <tr>\n",
       "      <th>1</th>\n",
       "      <td>abafadas</td>\n",
       "      <td>GN=fp</td>\n",
       "      <td>TG=HUM</td>\n",
       "      <td>-1</td>\n",
       "      <td>ANOT=JALC</td>\n",
       "      <td>abafado</td>\n",
       "    </tr>\n",
       "    <tr>\n",
       "      <th>2</th>\n",
       "      <td>abafado</td>\n",
       "      <td>GN=ms</td>\n",
       "      <td>TG=HUM</td>\n",
       "      <td>-1</td>\n",
       "      <td>ANOT=JALC</td>\n",
       "      <td>abafado</td>\n",
       "    </tr>\n",
       "    <tr>\n",
       "      <th>3</th>\n",
       "      <td>abafados</td>\n",
       "      <td>GN=mp</td>\n",
       "      <td>TG=HUM</td>\n",
       "      <td>-1</td>\n",
       "      <td>ANOT=JALC</td>\n",
       "      <td>abafado</td>\n",
       "    </tr>\n",
       "    <tr>\n",
       "      <th>4</th>\n",
       "      <td>abafante</td>\n",
       "      <td>GN=fs</td>\n",
       "      <td>TG=HUM</td>\n",
       "      <td>-1</td>\n",
       "      <td>ANOT=MAN</td>\n",
       "      <td>abafante</td>\n",
       "    </tr>\n",
       "  </tbody>\n",
       "</table>\n",
       "</div>"
      ],
      "text/plain": [
       "       Word     GN      TG Pol       Anot   WordLem\n",
       "0   abafada  GN=fs  TG=HUM  -1  ANOT=JALC   abafado\n",
       "1  abafadas  GN=fp  TG=HUM  -1  ANOT=JALC   abafado\n",
       "2   abafado  GN=ms  TG=HUM  -1  ANOT=JALC   abafado\n",
       "3  abafados  GN=mp  TG=HUM  -1  ANOT=JALC   abafado\n",
       "4  abafante  GN=fs  TG=HUM  -1   ANOT=MAN  abafante"
      ]
     },
     "metadata": {},
     "output_type": "display_data"
    }
   ],
   "source": [
    "newWords = []\n",
    "newWordsLem = []\n",
    "newPols = []\n",
    "for line in sentiLex.Word:\n",
    "    newWord = line.replace('.PoS=Adj','')\n",
    "    newWord = newWord.split(',')\n",
    "    newWords.append(newWord[0])\n",
    "    newWordsLem.append(newWord[1])\n",
    "    \n",
    "for line in sentiLex.Pol:\n",
    "    newPols.append(line.replace('POL=',''))\n",
    "\n",
    "sentiLex.Word = newWords\n",
    "sentiLex[\"WordLem\"] = newWordsLem\n",
    "sentiLex.Pol = newPols\n",
    "display(sentiLex.head(5))"
   ]
  },
  {
   "cell_type": "code",
   "execution_count": 99,
   "metadata": {},
   "outputs": [
    {
     "name": "stdout",
     "output_type": "stream",
     "text": [
      "Lexema:são\n",
      "  Lema: são\n",
      "Lexema:elegante\n",
      "  Lema: elegante\n",
      "Lexema:bonita\n",
      "  Lema: bonito\n",
      "Lexema:naturais\n",
      "  Lema: natural\n",
      "Lexema:contritos\n",
      "  Lema: contrito\n",
      "Lexema:singelos\n",
      "  Lema: singelo\n",
      "Lexema:só\n",
      "  Lema: só\n"
     ]
    }
   ],
   "source": [
    "for word in words_tkn:\n",
    "    entry = sentiLex[sentiLex[\"Word\"] == word]\n",
    "    if entry.shape != (0,6):\n",
    "        print(\"Lexema:{0}\\n  Lema: {1}\".format(entry[\"Word\"].iloc[0], entry[\"WordLem\"].iloc[0]))\n",
    "        "
   ]
  },
  {
   "cell_type": "markdown",
   "metadata": {},
   "source": [
    "## Stopwords"
   ]
  },
  {
   "cell_type": "code",
   "execution_count": 100,
   "metadata": {},
   "outputs": [
    {
     "name": "stdout",
     "output_type": "stream",
     "text": [
      "['de', 'a', 'o', 'que', 'e', 'do', 'da', 'em', 'um', 'para', 'com', 'não', 'uma', 'os', 'no', 'se', 'na', 'por', 'mais', 'as', 'dos', 'como', 'mas', 'ao', 'ele', 'das', 'à', 'seu', 'sua', 'ou', 'quando', 'muito', 'nos', 'já', 'eu', 'também', 'só', 'pelo', 'pela', 'até', 'isso', 'ela', 'entre', 'depois', 'sem', 'mesmo', 'aos', 'seus', 'quem', 'nas', 'me', 'esse', 'eles', 'você', 'essa', 'num', 'nem', 'suas', 'meu', 'às', 'minha', 'numa', 'pelos', 'elas', 'qual', 'nós', 'lhe', 'deles', 'essas', 'esses', 'pelas', 'este', 'dele', 'tu', 'te', 'vocês', 'vos', 'lhes', 'meus', 'minhas', 'teu', 'tua', 'teus', 'tuas', 'nosso', 'nossa', 'nossos', 'nossas', 'dela', 'delas', 'esta', 'estes', 'estas', 'aquele', 'aquela', 'aqueles', 'aquelas', 'isto', 'aquilo', 'estou', 'está', 'estamos', 'estão', 'estive', 'esteve', 'estivemos', 'estiveram', 'estava', 'estávamos', 'estavam', 'estivera', 'estivéramos', 'esteja', 'estejamos', 'estejam', 'estivesse', 'estivéssemos', 'estivessem', 'estiver', 'estivermos', 'estiverem', 'hei', 'há', 'havemos', 'hão', 'houve', 'houvemos', 'houveram', 'houvera', 'houvéramos', 'haja', 'hajamos', 'hajam', 'houvesse', 'houvéssemos', 'houvessem', 'houver', 'houvermos', 'houverem', 'houverei', 'houverá', 'houveremos', 'houverão', 'houveria', 'houveríamos', 'houveriam', 'sou', 'somos', 'são', 'era', 'éramos', 'eram', 'fui', 'foi', 'fomos', 'foram', 'fora', 'fôramos', 'seja', 'sejamos', 'sejam', 'fosse', 'fôssemos', 'fossem', 'for', 'formos', 'forem', 'serei', 'será', 'seremos', 'serão', 'seria', 'seríamos', 'seriam', 'tenho', 'tem', 'temos', 'tém', 'tinha', 'tínhamos', 'tinham', 'tive', 'teve', 'tivemos', 'tiveram', 'tivera', 'tivéramos', 'tenha', 'tenhamos', 'tenham', 'tivesse', 'tivéssemos', 'tivessem', 'tiver', 'tivermos', 'tiverem', 'terei', 'terá', 'teremos', 'terão', 'teria', 'teríamos', 'teriam']\n"
     ]
    }
   ],
   "source": [
    "from nltk.corpus import stopwords\n",
    "print (stopwords.words(\"portuguese\"))"
   ]
  },
  {
   "cell_type": "markdown",
   "metadata": {},
   "source": [
    "## Normalização de Carecteres"
   ]
  },
  {
   "cell_type": "code",
   "execution_count": 107,
   "metadata": {},
   "outputs": [],
   "source": [
    "chars = [\"Caracteres\", \"caracteres\", \"CARACTERES\", \"CAracteres\"]"
   ]
  },
  {
   "cell_type": "code",
   "execution_count": 111,
   "metadata": {},
   "outputs": [
    {
     "name": "stdout",
     "output_type": "stream",
     "text": [
      "original:['Caracteres', 'caracteres', 'CARACTERES', 'CAracteres'] \n",
      "normalizado:['caracteres', 'caracteres', 'caracteres', 'caracteres']\n",
      "Strings distintas:\n",
      " Original:{'caracteres', 'CARACTERES', 'Caracteres', 'CAracteres'}\n",
      " Normalizado:{'caracteres'}\n"
     ]
    }
   ],
   "source": [
    "chars_norm = [c.lower() for c in chars]   \n",
    "print(\"original:{0} \\nnormalizado:{1}\".format(chars, chars_norm))\n",
    "print(\"Strings distintas:\\n Original:{0}\\n Normalizado:{1}\".format(set(chars), set(chars_norm)))"
   ]
  },
  {
   "cell_type": "markdown",
   "metadata": {},
   "source": [
    "## Limpeza"
   ]
  },
  {
   "cell_type": "code",
   "execution_count": 112,
   "metadata": {},
   "outputs": [
    {
     "name": "stdout",
     "output_type": "stream",
     "text": [
      " tem raz o  Geralmente s o arrebiques de dama elegante    que se v  ou se cr  bonita  e quer assim real ar as gra as naturais  Eu fujo e   benzo me tr s vezes quando encaro alguns desses pref cios contritos e singelos    que trazem os olhos no p  da sua humildade  e o cora  o nos p ncaros da sua   ambi  o  Quem s  lhes v  os olhos  e lhes diz verdade que amargue  arrisca se a   descair no conceito do autor  sem embargo da humildade que ele mesmo confessou    e da justi a que pediu   Ora pois  eu\n"
     ]
    }
   ],
   "source": [
    "import re\n",
    "# Remove punctuation characters\n",
    "text_clean = re.sub(r\"[^a-zA-Z0-9]\", \" \", text) \n",
    "print(text_clean)\n"
   ]
  },
  {
   "cell_type": "markdown",
   "metadata": {},
   "source": [
    "## PoS"
   ]
  },
  {
   "cell_type": "code",
   "execution_count": 118,
   "metadata": {},
   "outputs": [
    {
     "data": {
      "text/plain": [
       "[[('Jersei', 'N'), ('atinge', 'V'), ('média', 'N'), ('de', 'PREP'), ('Cr$', 'CUR'), ('1,4', 'NUM'), ('milhão', 'N'), ('em', 'PREP|+'), ('a', 'ART'), ('venda', 'N'), ('de', 'PREP|+'), ('a', 'ART'), ('Pinhal', 'NPROP'), ('em', 'PREP'), ('São', 'NPROP'), ('Paulo', 'NPROP')], [('Programe', 'V'), ('sua', 'PROADJ'), ('viagem', 'N'), ('a', 'PREP|+'), ('a', 'ART'), ('Exposição', 'NPROP'), ('Nacional', 'NPROP'), ('do', 'NPROP'), ('Zebu', 'NPROP'), (',', ','), ('que', 'PRO-KS-REL'), ('começa', 'V'), ('dia', 'N'), ('25', 'N|AP')], ...]"
      ]
     },
     "execution_count": 118,
     "metadata": {},
     "output_type": "execute_result"
    }
   ],
   "source": [
    "from nltk.corpus import mac_morpho\n",
    "mac_morpho.tagged_sents()"
   ]
  },
  {
   "cell_type": "code",
   "execution_count": 119,
   "metadata": {},
   "outputs": [
    {
     "data": {
      "text/plain": [
       "[['Jersei', 'atinge', 'média', 'de', 'Cr$', '1,4', 'milhão', 'em', 'a', 'venda', 'de', 'a', 'Pinhal', 'em', 'São', 'Paulo'], ['Programe', 'sua', 'viagem', 'a', 'a', 'Exposição', 'Nacional', 'do', 'Zebu', ',', 'que', 'começa', 'dia', '25'], ...]"
      ]
     },
     "execution_count": 119,
     "metadata": {},
     "output_type": "execute_result"
    }
   ],
   "source": [
    "mac_morpho.sents()"
   ]
  },
  {
   "cell_type": "markdown",
   "metadata": {},
   "source": [
    "## Use Case"
   ]
  },
  {
   "cell_type": "code",
   "execution_count": 121,
   "metadata": {},
   "outputs": [],
   "source": [
    "import requests\n",
    "from bs4 import BeautifulSoup"
   ]
  },
  {
   "cell_type": "code",
   "execution_count": 131,
   "metadata": {},
   "outputs": [],
   "source": [
    "# obtain the info\n",
    "url = \"https://www.estadao.com.br/\"\n",
    "page = requests.get(url)\n",
    "soup = BeautifulSoup(page.text, 'html.parser')"
   ]
  },
  {
   "cell_type": "code",
   "execution_count": 158,
   "metadata": {},
   "outputs": [
    {
     "name": "stdout",
     "output_type": "stream",
     "text": [
      "[<h3 class=\"title\"></h3>, <h3 class=\"title\">\n",
      "<a href=\"http://esportes.estadao.com.br/ao-vivo/futebol/9b9f1a5de6\" title=\"Japão vence Colômbia por 2 a 1 em jogo com a primeira expulsão da Copa\">\n",
      "\t\t\t\t\tJapão vence Colômbia por 2 a 1 em jogo com a primeira expulsão da Copa\n",
      "\t\t\t\t\t</a>\n",
      "</h3>, <h3 class=\"title\">\n",
      "<a href=\"http://esportes.estadao.com.br/ao-vivo/futebol/9b9f1a5de6\" title=\"Japão vence Colômbia por 2 a 1 em jogo com a primeira expulsão da Copa\">\n",
      "\t\t\tJapão vence Colômbia por 2 a 1 em jogo com a primeira expulsão da Copa\n",
      "\t\t\t</a>\n",
      "</h3>, <h3 class=\"title\">Copa do Mundo 2018</h3>, <h3 class=\"title\">Copa do Mundo 2018</h3>, <h3 class=\"title\">Copa do Mundo 2018</h3>, <h3 class=\"title\">\n",
      "<a href=\"https://esportes.estadao.com.br/noticias/futebol,pela-primeira-vez-diretor-da-fifa-admite-erro-em-gol-da-suica,70002355598\" title=\"Diretor da Fifa vê 'erro' em gol da Suíça e diz que entidade precisa 'aprender'\">\n",
      "\t\t\t\tDiretor da Fifa vê 'erro' em gol da Suíça e diz que entidade precisa 'aprender'\n",
      "\t\t\t</a>\n",
      "</h3>, <h3 class=\"title\">\n",
      "<a href=\"https://opiniao.estadao.com.br/noticias/geral,o-risco-do-cartel-chapa-branca,70002355056\" title=\"'O risco do cartel chapa-branca'; leia o editorial do 'Estado' desta terça-feira\">\n",
      "\t\t\t\t'O risco do cartel chapa-branca'; leia o editorial do 'Estado' desta terça-feira\n",
      "\t\t\t</a>\n",
      "</h3>, <h3 class=\"title\">\n",
      "<a href=\"https://economia.estadao.com.br/noticias/geral,com-pib-menor-e-mais-incertezas-industria-corta-investimentos,70002355045\" title=\"Com PIB menor e mais incertezas, indústria corta investimentos\">\n",
      "\t\t\t\tCom PIB menor e mais incertezas, indústria corta investimentos\n",
      "\t\t\t</a>\n",
      "</h3>, <h3 class=\"title\">\n",
      "<a href=\"http://br18.com.br/alckmin-meu-candidato-e-o-joao-doria/\" title=\"Alckmin: âMeu candidato é o João Doriaâ\">\n",
      "\t\t\t\tAlckmin: âMeu candidato é o João Doriaâ\n",
      "\t\t\t</a>\n",
      "</h3>, <h3 class=\"title\">\n",
      "<a href=\"https://esportes.estadao.com.br/noticias/futebol,arbitro-do-mundial-var-comeca-como-a-grande-estrela-da-copa-do-mundo,70002355117\" title=\"Novidade na Rússia, árbitro de vídeo começa como a grande estrela da Copa\">\n",
      "\t\t\t\tNovidade na Rússia, árbitro de vídeo começa como a grande estrela da Copa\n",
      "\t\t\t</a>\n",
      "</h3>, <h3 class=\"title\">\n",
      "<a href=\"https://esportes.estadao.com.br/noticias/futebol,russia-e-egito-se-enfrentam-com-o-mesmo-objetivo-fazer-historia,70002355114\" title=\"Rússia e Egito se enfrentam com o mesmo objetivo: fazer história\">\n",
      "\t\t\t\tRússia e Egito se enfrentam com o mesmo objetivo: fazer história\n",
      "\t\t\t</a>\n",
      "</h3>, <h3 class=\"title\">\n",
      "<a href=\"https://esportes.estadao.com.br/noticias/futebol,ansiedade-ou-descontrole-desequilibrio-depois-do-gol-suico-preocupa,70002355166\" title=\"Ansiedade ou descontrole? Desequilíbrio de jogadores após gol suíço preocupa\">\n",
      "\t\t\t\tAnsiedade ou descontrole? Desequilíbrio de jogadores após gol suíço preocupa\n",
      "\t\t\t</a>\n",
      "</h3>, <h3 class=\"title\">\n",
      "<a href=\"https://esportes.estadao.com.br/noticias/futebol,professora-contratada-pelo-governo-convence-mais-de-mil-russos-a-sorrir,70002355160\" title=\"Professora contratada pelo governo convence mais de mil russos a sorrir\">\n",
      "\t\t\t\tProfessora contratada pelo governo convence mais de mil russos a sorrir\n",
      "\t\t\t</a>\n",
      "</h3>, <h3 class=\"title\">\n",
      "<a href=\"https://sao-paulo.estadao.com.br/noticias/geral,covas-proibe-portoes-automaticos-que-invadem-calcadas-em-sao-paulo,70002355718\" title=\"Covas proíbe portões automáticos que 'invadem' calçadas em SP\">\n",
      "\t\t\t\tCovas proíbe portões automáticos que 'invadem' calçadas em SP\n",
      "\t\t\t</a>\n",
      "</h3>, <h3 class=\"title\">\n",
      "<a href=\"https://economia.estadao.com.br/noticias/geral,dolar-chega-a-subir-1-diante-de-guerra-comercial-entre-eua-e-china,70002355728\" title=\"Dólar sobe a 3,77 diante de guerra comercial entre EUA e China\">\n",
      "\t\t\t\tDólar sobe a 3,77 diante de guerra comercial entre EUA e China\n",
      "\t\t\t</a>\n",
      "</h3>, <h3 class=\"title\">\n",
      "<a href=\"https://politica.estadao.com.br/blogs/fausto-macedo/raquel-diz-ao-stf-que-gleisi-se-locupletou-de-esquemas-na-petrobras/\" title=\"STF abre hoje julgamento de Gleisi; Dodge pede condenação\">\n",
      "\t\t\t\tSTF abre hoje julgamento de Gleisi; Dodge pede condenação\n",
      "\t\t\t</a>\n",
      "</h3>, <h3 class=\"title\">\n",
      "<a href=\"https://internacional.estadao.com.br/noticias/geral,nos-eua-um-deposito-de-criancas-sem-papeis,70002355090\" title=\"Um depósito de crianças separadas dos pais e trancadas em gaiolas\">\n",
      "\t\t\t\tUm depósito de crianças separadas dos pais e trancadas em gaiolas\n",
      "\t\t\t</a>\n",
      "</h3>, <h3 class=\"title\">\n",
      "<a href=\"https://saude.estadao.com.br/noticias/geral,fiocruz-inicia-plano-de-pesquisa-para-usar-maconha,70002355173\" title=\"Fiocruz inicia plano de pesquisa para uso medicinal da maconha\">\n",
      "\t\t\t\tFiocruz inicia plano de pesquisa para uso medicinal da maconha\n",
      "\t\t\t</a>\n",
      "</h3>, <h3 class=\"title\">\n",
      "<a href=\"https://politica.estadao.com.br/blogs/estadao-verifica/\" title=\"Recebeu boato pelo WhatsApp? Envie para o 'Estadão Verifica'\">\n",
      "\t\t\t\tRecebeu boato pelo WhatsApp? Envie para o 'Estadão Verifica'\n",
      "\t\t\t</a>\n",
      "</h3>, <h3 class=\"title\">\n",
      "<a href=\"https://economia.estadao.com.br/noticias/geral,frete-tabelado-pode-tirar-r-53-bi-da-economia,70002355085\" title=\"Alta de custos com frete tabelado pode tirar R$ 53 bi da economia\">\n",
      "\t\t\t\tAlta de custos com frete tabelado pode tirar R$ 53 bi da economia\n",
      "\t\t\t</a>\n",
      "</h3>, <h3 class=\"title\">\n",
      "<a href=\"https://saude.estadao.com.br/noticias/geral,baixas-temperaturas-aumentam-risco-de-avc,70002355183\" title=\"Baixas temperaturas aumentam risco de AVC, aponta estudo\">\n",
      "\t\t\t\tBaixas temperaturas aumentam risco de AVC, aponta estudo\n",
      "\t\t\t</a>\n",
      "</h3>, <h3 class=\"title\">\n",
      "<a href=\"https://economia.estadao.com.br/noticias/negocios,em-cannes-uma-discussao-sobre-masculinidade,70002355206\" title=\"No festival Cannes Lions, uma discussão sobre masculinidade\">\n",
      "\t\t\t\tNo festival Cannes Lions, uma discussão sobre masculinidade\n",
      "\t\t\t</a>\n",
      "</h3>, <h3 class=\"swiper-title\">Ana Carla AbrÃ£o</h3>, <h3 class=\"swiper-title\">Humberto Werneck</h3>, <h3 class=\"swiper-title\">Celso Ming</h3>, <h3 class=\"swiper-title\">Coluna do Broadcast</h3>, <h3 class=\"swiper-title\">Direto da Fonte</h3>, <h3 class=\"title\">\n",
      "<a href=\"https://paladar.estadao.com.br/noticias/restaurante-e-bares,melhores-restaurantes-do-mundo-serao-anunciados-nesta-terca-na-espanha,70002355077\" title=\"Melhores restaurantes do mundo serão anunciados nesta terça\">\n",
      "                Melhores restaurantes do mundo serão anunciados nesta terça\n",
      "            </a>\n",
      "</h3>, <h3 class=\"title\">\n",
      "<a href=\"https://educacao.estadao.com.br/noticias/geral,universidades-federais-tem-menos-de-1-de-intercambistas-estrangeiros,70002355154\" title=\"Federais têm menos de 1% de intercambistas estrangeiros\">\n",
      "                Federais têm menos de 1% de intercambistas estrangeiros\n",
      "            </a>\n",
      "</h3>, <h3 class=\"title\">\n",
      "<a href=\"https://jornal.usp.br/ciencias/ciencias-da-saude/criancas-brasileiras-estao-expostas-a-moleculas-que-mudam-equilibrio-hormonal/\" title=\"Crianças são expostas a moléculas que mudam equilíbrio hormonal\">\n",
      "                Crianças são expostas a moléculas que mudam equilíbrio hormonal\n",
      "            </a>\n",
      "</h3>, <h3 class=\"title\">\n",
      "<a href=\"https://internacional.estadao.com.br/noticias/geral,principe-harry-e-meghan-markle-irao-a-irlanda-em-sua-primeira-viagem-oficial-ao-exterior,70002355655\" title=\"Harry e Meghan irão à Irlanda em sua 1º viagem oficial ao exterior\">\n",
      "                Harry e Meghan irão à Irlanda em sua 1º viagem oficial ao exterior\n",
      "            </a>\n",
      "</h3>, <h3 class=\"title\">\n",
      "<a href=\"https://viagem.estadao.com.br/noticias/geral,parques-da-florida-novas-atracoes-e-como-driblar-a-alta-do-dolar,70002354815\" title=\"Veja como aproveitar parques da Flórida e driblar o dólar alto\">\n",
      "                Veja como aproveitar parques da Flórida e driblar o dólar alto\n",
      "            </a>\n",
      "</h3>, <h3 class=\"title\">\n",
      "<a href=\"https://internacional.estadao.com.br/noticias/nytiw,raios-sao-um-desafio-para-a-visao-humana,70002352212\" title=\"Raios são um desafio para a visão humana\">\n",
      "                Raios são um desafio para a visão humana\n",
      "            </a>\n",
      "</h3>, <h3 class=\"title\">\n",
      "<a href=\"https://link.estadao.com.br/galerias/geral,e3-2018-os-10-melhores-jogos-da-feira-de-games,37239\" title=\"E3: confira os 10 melhores jogos da maior feira de games do mundo\">\n",
      "                E3: confira os 10 melhores jogos da maior feira de games do mundo\n",
      "            </a>\n",
      "</h3>, <h3 class=\"title\">\n",
      "<a href=\"http://patrocinados.estadao.com.br/quickbooks/empresaria-da-virada-na-carreira-ao-criar-marca-de-biquinis-para-bebes/\" title=\"Empresária cria marca de biquínis infantil e dá virada na carreira\">\n",
      "                Empresária cria marca de biquínis infantil e dá virada na carreira\n",
      "            </a>\n",
      "</h3>, <h3 class=\"native-ads-info\">Patrocinado por</h3>, <h3 class=\"title\">\n",
      "<a href=\"https://tv.estadao.com.br/politica,jose-amaury-antonio-sugere-caminhospara2018,891262\" title=\"'A Reconstrução do Brasil': o que é fundamental? Assista ao vídeo\">\n",
      "                'A Reconstrução do Brasil': o que é fundamental? Assista ao vídeo\n",
      "            </a>\n",
      "</h3>, <h3 class=\"title-news\">Email Cadastrado</h3>, <h3 class=\"title-news\">Ocorreu um erro inesperado.</h3>, <h3 class=\"title\">\n",
      "<a href=\"https://marsemfim.com.br/tragedia-alto-mar/\" title=\"A tragédia do alto mar: saiba o que acontece nesta área de ninguém\">\n",
      "                A tragédia do alto mar: saiba o que acontece nesta área de ninguém\n",
      "            </a>\n",
      "</h3>, <h3 class=\"title\">\n",
      "<a href=\"https://blog.clubepaladar.com.br/como-montar-uma-adega/\" title=\"Como montar uma adega: veja dicas de sommeliers\">\n",
      "                Como montar uma adega: veja dicas de sommeliers\n",
      "            </a>\n",
      "</h3>, <h3 class=\"swiper-title\">José Nêumanne</h3>, <h3 class=\"swiper-title\">Herton Escobar</h3>, <h3 class=\"swiper-title\">Babel</h3>, <h3 class=\"swiper-title\">Marcelo Rubens Paiva</h3>, <h3 class=\"swiper-title\">São Paulo na bike</h3>, <h3 class=\"swiper-title\">Ambiente-se</h3>, <h3 class=\"swiper-title\">Estadão Podcasts</h3>, <h3 class=\"swiper-title\">Fausto Macedo</h3>, <h3 class=\"swiper-title\">P1 nas pistas</h3>, <h3 class=\"swiper-title\">Meu Primeiro Apê</h3>, <h3 class=\"chapeu\">\n",
      "<a href=\"https://emais.estadao.com.br/noticias/gente,apos-avc-jorge-fernando-comemora-retorno-a-direcao-das-novelas-da-globo,70002355752\" title=\"ApÃ³s AVC, Jorge Fernando comemora retorno Ã  direÃ§Ã£o das novelas da Globo\">Emais</a>\n",
      "</h3>, <h3 class=\"chapeu\">\n",
      "<a href=\"https://cultura.estadao.com.br/noticias/cinema,com-0-de-aprovacao-dos-criticos-novo-filme-de-john-tavolta-e-fracasso-tambem-nas-bilheterias,70002355729\" title=\"Com 0% de aprovaÃ§Ã£o dos crÃ­ticos, novo filme de John Tavolta Ã© fracasso tambÃ©m nas bilheterias\">Cultura</a>\n",
      "</h3>, <h3 class=\"chapeu\">\n",
      "<a href=\"https://politica.estadao.com.br/blogs/fausto-macedo/banco-indenizara-por-falha-que-resultou-em-saque-de-r-40-mil-na-conta-de-aposentada/\" title=\"Banco indenizarÃ¡ por 'falha' que resultou em saque de R$ 40 mil na conta de aposentada\">Política</a>\n",
      "</h3>, <h3 class=\"chapeu\">\n",
      "<a href=\"https://sao-paulo.estadao.com.br/noticias/geral,vai-a-juri-popular-casal-acusado-de-espancar-filha-ate-a-morte-em-itapetininiga,70002355727\" title=\"Vai a jÃºri popular casal acusado de espancar filha atÃ© a morte em Itapetininiga\">São Paulo</a>\n",
      "</h3>, <h3 class=\"chapeu\">\n",
      "<a href=\"https://esportes.estadao.com.br/noticias/futebol,barca-admite-surpresa-e-mal-estar-com-pique-em-polemica-relacionada-a-griezmann,70002355738\" title=\"BarÃ§a admite 'surpresa e mal-estar' com PiquÃ© em polÃªmica relacionada a Griezmann\">Esportes</a>\n",
      "</h3>, <h3 class=\"chapeu\">\n",
      "<a href=\"https://emais.estadao.com.br/noticias/tv,transexual-que-enviou-video-para-o-jn-e-cover-de-joelma,70002355710\" title=\"Transexual que enviou vÃ­deo para o 'JN' Ã© cover de Joelma\">Emais</a>\n",
      "</h3>, <h3 class=\"chapeu\">\n",
      "<a href=\"https://economia.estadao.com.br/noticias/geral,dolar-chega-a-subir-1-diante-de-guerra-comercial-entre-eua-e-china,70002355728\" title=\"DÃ³lar chega a subir 1% diante de guerra comercial entre EUA e China\">Economia</a>\n",
      "</h3>, <h3 class=\"chapeu\">\n",
      "<a href=\"https://internacional.estadao.com.br/noticias/nytiw,sera-que-a-ciencia-deve-trazer-de-volta-um-rinoceronte,70002353566\" title=\"SerÃ¡ que a ciÃªncia deve trazer de volta um rinoceronte?\">Internacional</a>\n",
      "</h3>, <h3 class=\"chapeu\">\n",
      "<a href=\"https://esportes.estadao.com.br/noticias/futebol,viagem-de-presidente-do-senegal-para-acompanhar-sua-selecao-vira-polemica,70002355712\" title=\"Viagem de presidente do Senegal para acompanhar sua seleÃ§Ã£o vira polÃªmica\">Esportes</a>\n",
      "</h3>, <h3 class=\"chapeu\">\n",
      "<a href=\"https://sao-paulo.estadao.com.br/noticias/geral,covas-proibe-portoes-automaticos-que-invadem-calcadas-em-sao-paulo,70002355718\" title=\"Covas proÃ­be portÃµes automÃ¡ticos que 'invadem' calÃ§adas em SÃ£o Paulo\">São Paulo</a>\n",
      "</h3>, <h3 class=\"list-day-title\">HorÃ³scopo</h3>, <h3 class=\"list-day-title\">Quadrinhos</h3>, <h3 class=\"list-day-title\">Cruzadas</h3>, <h3 class=\"list-day-title\">Sudoku</h3>, <h3 class=\"list-day-title\">Clima</h3>, <h3 class=\"list-day-title\">Loterias</h3>, <h3 class=\"chapeu -color-secondary\">\n",
      "<a href=\"http://infograficos.estadao.com.br/esportes/copa/2018/russia/urss-e-russia-100-anos-de-esporte-e-memoria/\" title=\"Tradição\">Tradição</a>\n",
      "</h3>, <h3 class=\"chapeu -color-secondary\">\n",
      "<a href=\"http://www.estadao.com.br/infograficos/esportes,145-anos-de-futebol-em-30-minutos,888256\" title=\"Copa do Mundo\">Copa do Mundo</a>\n",
      "</h3>, <h3 class=\"chapeu -color-secondary\">\n",
      "<a href=\"http://infograficos.estadao.com.br/viagem/roteiro-arte-belgica-holanda/\" title=\"Siga os mestres\">Siga os mestres</a>\n",
      "</h3>, <h3 class=\"chapeu -color-secondary\">\n",
      "<a href=\"http://www.estadao.com.br/infograficos/esportes,copa-do-mundo-a-maior-vitrine-da-tecnologia-no-futebol,886379\" title=\"Futebol\">Futebol</a>\n",
      "</h3>, <h3 class=\"title\">Com PIB baixo e incertezas, indústria corta investimento</h3>, <h3 class=\"chapeu\">\n",
      "<a href=\"http://acervo.estadao.com.br/noticias/acervo,copa-do-mundo-historia-campeoes-e-artilheiros,70002324133,0.htm\" title=\"Futebol\">Futebol</a>\n",
      "</h3>, <h3 class=\"chapeu\">\n",
      "<a href=\"http://fotos.estadao.com.br/galerias/acervo,fotos-historicas,15357\" title=\"Fotos históricas\">Fotos históricas</a>\n",
      "</h3>, <h3 class=\"chapeu\">\n",
      "<a href=\"https://politica.estadao.com.br/noticias/geral,deputado-sugere-desvio-de-dinheiro-da-saude,70002355119\" title=\"Alceu Moreira (MDB-RS)\">\n",
      "\t\t\t\tAlceu Moreira (MDB-RS)\n",
      "\t\t\t</a>\n",
      "</h3>, <h3 class=\"chapeu\">\n",
      "<a href=\"https://politica.estadao.com.br/blogs/fausto-macedo/defensoria-de-sp-cobra-estado-por-presos-em-transito-sem-comida/\" title=\"São Paulo\">\n",
      "\t\t\t\tSão Paulo\n",
      "\t\t\t</a>\n",
      "</h3>, <h3 class=\"chapeu\">\n",
      "<a href=\"https://politica.estadao.com.br/blogs/fausto-macedo/pf-indicia-marcelo-miller-joesley-batista-e-mais-3-por-corrupcao/\" title=\"Corrupção\">\n",
      "\t\t\t\tCorrupção\n",
      "\t\t\t</a>\n",
      "</h3>, <h3 class=\"chapeu\">\n",
      "<a href=\"https://internacional.estadao.com.br/noticias/geral,apos-cupula-com-os-eua-kim-jong-un-chega-a-china-para-visita,70002355269\" title=\"Diplomacia\">\n",
      "\t\t\t\tDiplomacia\n",
      "\t\t\t</a>\n",
      "</h3>, <h3 class=\"chapeu\">\n",
      "<a href=\"https://internacional.estadao.com.br/noticias/geral,americanos-possuem-quase-a-metade-das-armas-que-estao-nas-maos-de-civis-em-todo-o-mundo,70002355204\" title=\"Violência\">\n",
      "\t\t\t\tViolência\n",
      "\t\t\t</a>\n",
      "</h3>, <h3 class=\"chapeu\">\n",
      "<a href=\"https://internacional.estadao.com.br/noticias/geral,aliados-dao-a-merkel-ultimato-ate-o-fim-de-junho-para-reduzir-entrada-de-imigrantes-na-alemanha,70002354369\" title=\"Crise\">\n",
      "\t\t\t\tCrise\n",
      "\t\t\t</a>\n",
      "</h3>, <h3 class=\"chapeu\">\n",
      "<a href=\"https://sao-paulo.estadao.com.br/noticias/geral,menina-vitoria-teve-maos-amarradas-diz-advogado-da-familia,70002355020\" title=\"Interior de SP\">\n",
      "\t\t\t\tInterior de SP\n",
      "\t\t\t</a>\n",
      "</h3>, <h3 class=\"chapeu\">\n",
      "<a href=\"https://educacao.estadao.com.br/noticias/geral,mec-divulga-resultado-do-sisu-do-segundo-semestre-nesta-segunda-feira,70002354209\" title=\"Educação\">\n",
      "\t\t\t\tEducação\n",
      "\t\t\t</a>\n",
      "</h3>, <h3 class=\"chapeu\">\n",
      "<a href=\"https://saude.estadao.com.br/noticias/geral,aumento-em-casos-de-raiva-animal-poe-vigilancia-em-alerta-no-interior-de-sp,70002354874\" title=\"São Paulo\">\n",
      "\t\t\t\tSão Paulo\n",
      "\t\t\t</a>\n",
      "</h3>, <h3 class=\"chapeu\">\n",
      "<a href=\"https://politica.estadao.com.br/noticias/eleicoes,psdb-decide-ficar-com-uma-vaga-de-senador-em-sao-paulo-e-restringe-opcoes-de-doria,70002355079\" title=\"São Paulo\">\n",
      "\t\t\t\tSão Paulo\n",
      "\t\t\t</a>\n",
      "</h3>, <h3 class=\"chapeu\">\n",
      "<a href=\"https://politica.estadao.com.br/noticias/eleicoes,bolsonaro-quer-pacotao-economico,70002353950\" title=\"Ideias ultraliberais\">\n",
      "\t\t\t\tIdeias ultraliberais\n",
      "\t\t\t</a>\n",
      "</h3>, <h3 class=\"chapeu\">\n",
      "<a href=\"https://politica.estadao.com.br/noticias/eleicoes,plebiscito-para-privatizar-estatais-pauta-disputa-ao-piratini,70002355041\" title=\"RS\">\n",
      "\t\t\t\tRS\n",
      "\t\t\t</a>\n",
      "</h3>, <h3 class=\"swiper-title\">\t\t\t\t\t\t\t\n",
      "                  Avião com time Saudita pega fogo\n",
      "                </h3>, <h3 class=\"swiper-title\">\t\t\t\t\t\t\t\n",
      "                    Avião com time Saudita pega fogo\n",
      "                  </h3>, <h3 class=\"swiper-title\">\t\t\t\t\t\t\t\n",
      "                  Americanos têm 40% das armas de fogo do mundo \n",
      "                </h3>, <h3 class=\"swiper-title\">\t\t\t\t\t\t\t\n",
      "                    Americanos têm 40% das armas de fogo do mundo \n",
      "                  </h3>, <h3 class=\"swiper-title\">\t\t\t\t\t\t\t\n",
      "                  ONU reage a declarações sobre migrantes\n",
      "                </h3>, <h3 class=\"swiper-title\">\t\t\t\t\t\t\t\n",
      "                    ONU reage a declarações sobre migrantes\n",
      "                  </h3>, <h3 class=\"swiper-title\">\t\t\t\t\t\t\t\n",
      "                  Cunhado do rei da Espanha é preso\n",
      "                </h3>, <h3 class=\"swiper-title\">\t\t\t\t\t\t\t\n",
      "                    Cunhado do rei da Espanha é preso\n",
      "                  </h3>, <h3 class=\"chapeu\">\n",
      "<a href=\"https://viagem.estadao.com.br/noticias/geral,conheca-os-hoteis-que-estao-hospedando-as-selecoes-durante-a-copa-da-russia,70002352150\" title=\"Só luxo\">\n",
      "\t\t\t\tSó luxo\n",
      "\t\t\t</a>\n",
      "</h3>, <h3 class=\"chapeu\">\n",
      "<a href=\"https://viagem.estadao.com.br/galerias/geral,mala-de-torcedor-sugerimos-produtos-viajantes-inspirados-na-copa,37207\" title=\"Vamos às compras\">\n",
      "\t\t\t\tVamos às compras\n",
      "\t\t\t</a>\n",
      "</h3>, <h3 class=\"chapeu\">\n",
      "<a href=\"https://viagem.estadao.com.br/noticias/geral,paixao-por-cerveja-e-montanhas-cria-rota-turistica-na-republica-checa,70002351916\" title=\"Região da Boêmia\">\n",
      "\t\t\t\tRegião da Boêmia\n",
      "\t\t\t</a>\n",
      "</h3>, <h3 class=\"chapeu\">\n",
      "<a href=\"https://internacional.estadao.com.br/noticias/nytiw,a-joia-francesa-retorna-da-beira-do-abismo,70002350911\" title=\"Cantora\">\n",
      "\t\t\t\tCantora\n",
      "\t\t\t</a>\n",
      "</h3>, <h3 class=\"chapeu\">\n",
      "<a href=\"https://internacional.estadao.com.br/noticias/nytiw,autores-deixam-livro-impresso-de-lado-e-investem-no-audio,70002350908\" title=\"Novo formato\">\n",
      "\t\t\t\tNovo formato\n",
      "\t\t\t</a>\n",
      "</h3>, <h3 class=\"chapeu\">\n",
      "<a href=\"https://internacional.estadao.com.br/noticias/nytiw,a-persistente-radiacao-de-chernobyl-e-uma-ameaca-a-saude,70002351553\" title=\"Desastre nuclear\">\n",
      "\t\t\t\tDesastre nuclear\n",
      "\t\t\t</a>\n",
      "</h3>, <h3 class=\"chapeu\">\n",
      "<a href=\"https://cultura.estadao.com.br/noticias/musica,nick-drake-e-celebrado-no-dia-do-seu-70-aniversario-inclusive-com-projeto-brasileiro,70002355107\" title=\"Poeta e músico\">\n",
      "\t\t\t\tPoeta e músico\n",
      "\t\t\t</a>\n",
      "</h3>, <h3 class=\"chapeu\">\n",
      "<a href=\"https://cultura.estadao.com.br/noticias/artes,duas-mostras-e-uma-heranca-a-neoconcreta,70002355002\" title=\"Duas mostras\">\n",
      "\t\t\t\tDuas mostras\n",
      "\t\t\t</a>\n",
      "</h3>, <h3 class=\"chapeu\">\n",
      "<a href=\"https://cultura.estadao.com.br/noticias/literatura,ideias-em-um-livro-sao-como-alcool-em-um-drinque-diz-escritor,70002354937\" title=\"Estreia no Brasil\">\n",
      "\t\t\t\tEstreia no Brasil\n",
      "\t\t\t</a>\n",
      "</h3>, <h3 class=\"chapeu\">\n",
      "<a href=\"https://emais.estadao.com.br/noticias/comportamento,rua-de-sao-paulo-ganha-pintura-de-pabllo-vittar-em-clima-de-copa,70002354191\" title=\"Embaixadinhas\">\n",
      "\t\t\t\tEmbaixadinhas\n",
      "\t\t\t</a>\n",
      "</h3>, <h3 class=\"chapeu\">\n",
      "<a href=\"https://emais.estadao.com.br/noticias/moda-e-beleza,como-beyonce-usa-a-moda-para-sustentar-a-narrativa-de-apeshit,70002354650\" title=\"Análise\">\n",
      "\t\t\t\tAnálise\n",
      "\t\t\t</a>\n",
      "</h3>, <h3 class=\"chapeu\">\n",
      "<a href=\"https://emais.estadao.com.br/noticias/tv,cinemas-dos-estados-unidos-recebem-aviso-sobre-ataques-de-epilepsia-em-os-incriveis-2,70002354725\" title=\"Em 'Os Incríveis 2'\">\n",
      "\t\t\t\tEm 'Os Incríveis 2'\n",
      "\t\t\t</a>\n",
      "</h3>, <h3 class=\"chapeu\">\n",
      "<a href=\"https://economia.estadao.com.br/noticias/geral,petrobras-pode-perder-r-15-bi-com-acao-trabalhista,70002355195\" title=\"Estatal\">\n",
      "\t\t\t\tEstatal\n",
      "\t\t\t</a>\n",
      "</h3>, <h3 class=\"chapeu\">\n",
      "<a href=\"https://economia.estadao.com.br/noticias/geral,china-admite-que-esta-em-guerra-comercial-e-ameaca-retaliar-eua,70002355262\" title=\"Comércio exterior\">\n",
      "\t\t\t\tComércio exterior\n",
      "\t\t\t</a>\n",
      "</h3>, <h3 class=\"chapeu\">\n",
      "<a href=\"https://economia.estadao.com.br/noticias/geral,acusada-de-sonegacao-empresa-de-bebidas-dolly-fecha-fabrica-em-sp,70002355063\" title=\"Negócios\">\n",
      "\t\t\t\tNegócios\n",
      "\t\t\t</a>\n",
      "</h3>, <h3 class=\"chapeu\">\n",
      "<a href=\"https://cultura.estadao.com.br/blogs/divirta-se/um-dia-em-santana-divirta-se-indica-tres-atracoes-para-aproveitar-no-bairro/\" title=\"Santana\">\n",
      "\t\t\t\tSantana\n",
      "\t\t\t</a>\n",
      "</h3>, <h3 class=\"chapeu\">\n",
      "<a href=\"https://cultura.estadao.com.br/blogs/divirta-se/7-pecas-adultas-e-infantis-gratuitas-em-sao-paulo/\" title=\"Agenda\">\n",
      "\t\t\t\tAgenda\n",
      "\t\t\t</a>\n",
      "</h3>, <h3 class=\"chapeu\">\n",
      "<a href=\"https://cultura.estadao.com.br/blogs/divirta-se/novo-bar-da-vila-madalena-serve-petiscos-e-pratos-paulistanos/\" title=\"Cazu\">\n",
      "\t\t\t\tCazu\n",
      "\t\t\t</a>\n",
      "</h3>, <h3 class=\"chapeu\">\n",
      "<a href=\"https://emais.estadao.com.br/noticias/casa-e-decoracao,madeira-couro-e-tecidos-pesados-renovam-visual-da-sala-no-inverno,70002351851\" title=\"Decoração\">\n",
      "\t\t\t\tDecoração\n",
      "\t\t\t</a>\n",
      "</h3>, <h3 class=\"chapeu\">\n",
      "<a href=\"https://emais.estadao.com.br/noticias/casa-e-decoracao,ines-schertel-apresenta-nova-colecao-de-produtos-feitos-de-la,70002351889\" title=\"Designer\">\n",
      "\t\t\t\tDesigner\n",
      "\t\t\t</a>\n",
      "</h3>, <h3 class=\"chapeu\">\n",
      "<a href=\"https://emais.estadao.com.br/blogs/meu-primeiro-ape/cortinas-ou-persianas-descubra-qual-a-melhor-opcao-para-a-sua-casa/\" title=\"Projeto\">\n",
      "\t\t\t\tProjeto\n",
      "\t\t\t</a>\n",
      "</h3>, <h3 class=\"chapeu\">\n",
      "<a href=\"http://jornaldocarro.estadao.com.br/primeira-classe/range-rover-velar-perua/\" title=\"Avaliação\">\n",
      "\t\t\t\tAvaliação\n",
      "\t\t\t</a>\n",
      "</h3>, <h3 class=\"chapeu\">\n",
      "<a href=\"http://jornaldocarro.estadao.com.br/galeria/carros-que-voce-jurava-que-eram-importados-mas-nao-sao/?id=37170\" title=\"Galeria\">\n",
      "\t\t\t\tGaleria\n",
      "\t\t\t</a>\n",
      "</h3>, <h3 class=\"chapeu\">\n",
      "<a href=\"http://jornaldocarro.estadao.com.br/carros/lada-ainda-e-dona-da-bola-na-russia/\" title=\"País da Copa\">\n",
      "\t\t\t\tPaís da Copa\n",
      "\t\t\t</a>\n",
      "</h3>, <h3 class=\"desc-swiper\">\n",
      "\t\t\t\t\t\t\t\tTunisinos assistem o jogo TunÃ­sia e Inglaterra em um telÃ£o no antigo coliseu romano em El Jema, na TunÃ­sia. Foto: Bechir Taieb / AFP  \n",
      "\n",
      "\t\t\t\t\t\t\t\t\t\t\t\t\t\t\t</h3>, <h3 class=\"desc-swiper\">\n",
      "\t\t\t\t\t\t\t\tGoleiro tunisiano Mouez Hassen faz defesa no jogo TunÃ­sia e Inglaterra em  Volgogrado, na RÃºssia. Foto: Rebecca Blackwell/AP\n",
      "\n",
      "\t\t\t\t\t\t\t\t\t\t\t\t\t\t\t</h3>, <h3 class=\"desc-swiper\">\n",
      "\t\t\t\t\t\t\t\tRefugiados sÃ­rios assistem jogo pela Copa do Mundo de Futebol, no campo de Ain Issa, em Raqqa. Foto: Delil Souleiman/AFP  \n",
      "\n",
      "\t\t\t\t\t\t\t\t\t\t\t\t\t\t\t</h3>, <h3 class=\"desc-swiper\">\n",
      "\t\t\t\t\t\t\t\tComissÃ¡rio da FIFA monitora Ã¡rea da imprensa durante o treino da seleÃ§Ã£o do JapÃ£o na arena Mordovia, em Saransk. Foto: Rungroj Yongrit / EFE  \n",
      "\n",
      "\t\t\t\t\t\t\t\t\t\t\t\t\t\t\t</h3>, <h3 class=\"desc-swiper\">\n",
      "\t\t\t\t\t\t\t\tDesfile do Festival do Barco DragÃ£o em Zhejiang, na China. Foto:AFP\n",
      "\n",
      "\t\t\t\t\t\t\t\t\t\t\t\t\t\t\t</h3>, <h3 class=\"desc-swiper\">\n",
      "\t\t\t\t\t\t\t\tAmanhecer gelado em um parque de Johannesburgo, na Ãfrica do Sul. Foto: Kim Ludbrook/EFE \n",
      "\n",
      "\t\t\t\t\t\t\t\t\t\t\t\t\t\t\t</h3>, <h3 class=\"desc-swiper\">\n",
      "\t\t\t\t\t\t\t\tGarÃ§a em um campo queimado na fronteira entre Israel e a Faixa de Gaza. Foto: Menahem Kahana / AFP  \n",
      "\n",
      "\t\t\t\t\t\t\t\t\t\t\t\t\t\t\t</h3>, <h3 class=\"desc-swiper\">\n",
      "\t\t\t\t\t\t\t\tVisitantes jogam basquete embaixo da Torre Eiffel em Paris. Foto: Ian Langsdon/EFE \n",
      "\n",
      "\t\t\t\t\t\t\t\t\t\t\t\t\t\t\t</h3>, <h3 class=\"desc-swiper\">\n",
      "\t\t\t\t\t\t\t\tMulher caminha por rua de Madrid, na Espanha. Foto: Juan Medina/Reuters\n",
      "\n",
      "\t\t\t\t\t\t\t\t\t\t\t\t\t\t\t</h3>, <h3 class=\"desc-swiper\">\n",
      "\t\t\t\t\t\t\t\tTuristas tiram fotos da \"EstÃ¡tua de Zilant\", sÃ­mbolo da cidade de Kazan, na RÃºssia. Foto: John Sibley / Reuters\n",
      "\n",
      "\t\t\t\t\t\t\t\t\t\t\t\t\t\t\t</h3>, <h3 class=\"chapeu\">\n",
      "<span class=\"label-number\">1.</span>\n",
      "                                    Fotografia\n",
      "                                </h3>, <h3 class=\"chapeu\">\n",
      "<span class=\"label-number\">2.</span>\n",
      "                                    Emais\n",
      "                                </h3>, <h3 class=\"chapeu\">\n",
      "<span class=\"label-number\">3.</span>\n",
      "                                    Emais\n",
      "                                </h3>, <h3 class=\"chapeu\">\n",
      "<span class=\"label-number\">4.</span>\n",
      "                                    Esportes\n",
      "                                </h3>, <h3 class=\"chapeu\">\n",
      "<span class=\"label-number\">5.</span>\n",
      "                                    Fotografia\n",
      "                                </h3>, <h3 class=\"chapeu\">\n",
      "<span class=\"label-number\">1.</span>\n",
      "                                    Cultura\n",
      "                                </h3>, <h3 class=\"chapeu\">\n",
      "<span class=\"label-number\">2.</span>\n",
      "                                    SÃ£o Paulo\n",
      "                                </h3>, <h3 class=\"chapeu\">\n",
      "<span class=\"label-number\">3.</span>\n",
      "                                    Esportes\n",
      "                                </h3>, <h3 class=\"chapeu\">\n",
      "<span class=\"label-number\">4.</span>\n",
      "                                    Esportes\n",
      "                                </h3>, <h3 class=\"chapeu\">\n",
      "<span class=\"label-number\">5.</span>\n",
      "                                    PolÃ­tica\n",
      "                                </h3>, <h3 class=\"chapeu\">\n",
      "<a href=\"http://patrocinados.estadao.com.br/deloitte/\" title=\"Deloitte\">Deloitte</a>\n",
      "</h3>, <h3 class=\"chapeu\">\n",
      "<a href=\"http://patrocinados.estadao.com.br/sodresantoro/\" title=\"Sodré Santoro\">Sodré Santoro</a>\n",
      "</h3>, <h3 class=\"chapeu\">\n",
      "<a href=\"http://patrocinados.estadao.com.br/doacaodeleite\" title=\"Ministério da Saúde\">Ministério da Saúde</a>\n",
      "</h3>, <h3 class=\"chapeu\">\n",
      "<a href=\"http://patrocinados.estadao.com.br/mozarteum\" title=\"Mozarteum\">Mozarteum</a>\n",
      "</h3>, <h3 class=\"chapeu\">\n",
      "<a href=\"http://patrocinados.estadao.com.br/esporteparatodo\" title=\"Esporte para Todos\">Esporte para Todos</a>\n",
      "</h3>, <h3 class=\"chapeu\">\n",
      "<a href=\"http://patrocinados.estadao.com.br/guardeaqui/\" title=\"GuardeAqui\">GuardeAqui</a>\n",
      "</h3>, <h3 class=\"chapeu\">\n",
      "<a href=\"http://patrocinados.estadao.com.br/brasil2018/\" title=\"Brasil 2018\">Brasil 2018</a>\n",
      "</h3>, <h3 class=\"title-news\">Email Cadastrado</h3>, <h3 class=\"title-news\">Ocorreu um erro inesperado.</h3>]\n"
     ]
    }
   ],
   "source": [
    "# filter h3 (defined by inspecting the HTML code)\n",
    "found = soup.find_all('h3')\n",
    "print(found)"
   ]
  },
  {
   "cell_type": "code",
   "execution_count": 207,
   "metadata": {},
   "outputs": [
    {
     "name": "stdout",
     "output_type": "stream",
     "text": [
      "['Japão vence Colmbia por 2 a 1 em jogo com a primeira expulsão da Copa', 'Japão vence Colmbia por 2 a 1 em jogo com a primeira expulsão da Copa', 'Copa do Mundo 2018', 'Copa do Mundo 2018', 'Copa do Mundo 2018', 'Diretor da Fifa v erro em gol da Sua e diz que entidade precisa aprender', 'O risco do cartel chapabranca leia o editorial do Estado desta terafeira', 'Com PIB menor e mais incertezas indstria corta investimentos', 'Alckmin Meu candidato  o João Doria', 'Novidade na Rssia árbitro de vdeo comea como a grande estrela da Copa', 'Rssia e Egito se enfrentam com o mesmo objetivo fazer histria', 'Ansiedade ou descontrole Desequilbrio de jogadores aps gol suo preocupa', 'Professora contratada pelo governo convence mais de mil russos a sorrir', 'Covas probe portes automáticos que invadem caladas em SP', 'Dlar sobe a 377 diante de guerra comercial entre EUA e China', 'STF abre hoje julgamento de Gleisi Dodge pede condenaão', 'Um depsito de crianas separadas dos pais e trancadas em gaiolas', 'Fiocruz inicia plano de pesquisa para uso medicinal da maconha', 'Recebeu boato pelo WhatsApp Envie para o Estadão Verifica', 'Alta de custos com frete tabelado pode tirar R 53 bi da economia', 'Baixas temperaturas aumentam risco de AVC aponta estudo', 'No festival Cannes Lions uma discussão sobre masculinidade', 'Ana Carla Abro', 'Humberto Werneck']\n"
     ]
    }
   ],
   "source": [
    "#clean the headlines eliminating everything that isn't letters, numbers, spaces and ã or á\n",
    "headlines = []\n",
    "for h3 in found:\n",
    "    headlines.append(re.sub(\"[^a-zA-Z0-9ãá ]\", '', h3.text))\n",
    "headlines =  headlines[1:25]\n",
    "print(headlines)"
   ]
  },
  {
   "cell_type": "code",
   "execution_count": 209,
   "metadata": {},
   "outputs": [
    {
     "name": "stdout",
     "output_type": "stream",
     "text": [
      "['japão vence colmbia por 2 a 1 em jogo com a primeira expulsão da copa', 'japão vence colmbia por 2 a 1 em jogo com a primeira expulsão da copa', 'copa do mundo 2018', 'copa do mundo 2018', 'copa do mundo 2018', 'diretor da fifa v erro em gol da sua e diz que entidade precisa aprender', 'o risco do cartel chapabranca leia o editorial do estado desta terafeira', 'com pib menor e mais incertezas indstria corta investimentos', 'alckmin meu candidato  o joão doria', 'novidade na rssia árbitro de vdeo comea como a grande estrela da copa', 'rssia e egito se enfrentam com o mesmo objetivo fazer histria', 'ansiedade ou descontrole desequilbrio de jogadores aps gol suo preocupa', 'professora contratada pelo governo convence mais de mil russos a sorrir', 'covas probe portes automáticos que invadem caladas em sp', 'dlar sobe a 377 diante de guerra comercial entre eua e china', 'stf abre hoje julgamento de gleisi dodge pede condenaão', 'um depsito de crianas separadas dos pais e trancadas em gaiolas', 'fiocruz inicia plano de pesquisa para uso medicinal da maconha', 'recebeu boato pelo whatsapp envie para o estadão verifica', 'alta de custos com frete tabelado pode tirar r 53 bi da economia', 'baixas temperaturas aumentam risco de avc aponta estudo', 'no festival cannes lions uma discussão sobre masculinidade', 'ana carla abro', 'humberto werneck']\n"
     ]
    }
   ],
   "source": [
    "#normalize the words\n",
    "head_norm = [c.lower() for c in headlines] \n",
    "print(head_norm)"
   ]
  },
  {
   "cell_type": "code",
   "execution_count": 266,
   "metadata": {},
   "outputs": [
    {
     "name": "stdout",
     "output_type": "stream",
     "text": [
      "[{'2018': 0, '377': 0, '53': 0, 'abre': 0, 'abro': 0, 'alckmin': 0, 'alta': 0, 'ana': 0, 'ansiedade': 0, 'aponta': 0, 'aprender': 0, 'aps': 0, 'aumentam': 0, 'automáticos': 0, 'avc': 0, 'baixas': 0, 'bi': 0, 'boato': 0, 'caladas': 0, 'candidato': 0, 'cannes': 0, 'carla': 0, 'cartel': 0, 'chapabranca': 0, 'china': 0, 'colmbia': 0, 'com': 1, 'comea': 0, 'comercial': 0, 'como': 0, 'condenaão': 0, 'contratada': 0, 'convence': 0, 'copa': 0, 'corta': 1, 'covas': 0, 'crianas': 0, 'custos': 0, 'da': 0, 'de': 0, 'depsito': 0, 'descontrole': 0, 'desequilbrio': 0, 'desta': 0, 'diante': 0, 'diretor': 0, 'discussão': 0, 'diz': 0, 'dlar': 0, 'do': 0, 'dodge': 0, 'doria': 0, 'dos': 0, 'economia': 0, 'editorial': 0, 'egito': 0, 'em': 0, 'enfrentam': 0, 'entidade': 0, 'entre': 0, 'envie': 0, 'erro': 0, 'estado': 0, 'estadão': 0, 'estrela': 0, 'estudo': 0, 'eua': 0, 'expulsão': 0, 'fazer': 0, 'festival': 0, 'fifa': 0, 'fiocruz': 0, 'frete': 0, 'gaiolas': 0, 'gleisi': 0, 'gol': 0, 'governo': 0, 'grande': 0, 'guerra': 0, 'histria': 0, 'hoje': 0, 'humberto': 0, 'incertezas': 1, 'indstria': 1, 'inicia': 0, 'invadem': 0, 'investimentos': 1, 'japão': 0, 'jogadores': 0, 'jogo': 0, 'joão': 0, 'julgamento': 0, 'leia': 0, 'lions': 0, 'maconha': 0, 'mais': 1, 'masculinidade': 0, 'medicinal': 0, 'menor': 1, 'mesmo': 0, 'meu': 0, 'mil': 0, 'mundo': 0, 'na': 0, 'no': 0, 'novidade': 0, 'objetivo': 0, 'ou': 0, 'pais': 0, 'para': 0, 'pede': 0, 'pelo': 0, 'pesquisa': 0, 'pib': 1, 'plano': 0, 'pode': 0, 'por': 0, 'portes': 0, 'precisa': 0, 'preocupa': 0, 'primeira': 0, 'probe': 0, 'professora': 0, 'que': 0, 'recebeu': 0, 'risco': 0, 'rssia': 0, 'russos': 0, 'se': 0, 'separadas': 0, 'sobe': 0, 'sobre': 0, 'sorrir': 0, 'sp': 0, 'stf': 0, 'sua': 0, 'suo': 0, 'tabelado': 0, 'temperaturas': 0, 'terafeira': 0, 'tirar': 0, 'trancadas': 0, 'um': 0, 'uma': 0, 'uso': 0, 'vdeo': 0, 'vence': 0, 'verifica': 0, 'werneck': 0, 'whatsapp': 0, 'árbitro': 0}]\n"
     ]
    }
   ],
   "source": [
    "# obtain bag of words\n",
    "from sklearn.feature_extraction.text import CountVectorizer\n",
    "ngram_vectorizer = CountVectorizer()\n",
    "counts = ngram_vectorizer.fit_transform(head_norm).toarray().astype(int)\n",
    "names = ngram_vectorizer.get_feature_names()\n",
    "\n",
    "# dict and zip used for better visualization\n",
    "bag = [dict(zip(ngram_vectorizer.get_feature_names(), count)) for count in counts]\n",
    "print(bag[7:8])"
   ]
  },
  {
   "cell_type": "code",
   "execution_count": 267,
   "metadata": {},
   "outputs": [
    {
     "name": "stdout",
     "output_type": "stream",
     "text": [
      "(24, 151)\n"
     ]
    }
   ],
   "source": [
    "# calculate Tfidf for what we defined\n",
    "from sklearn.feature_extraction.text import TfidfTransformer\n",
    "transformer = TfidfTransformer(smooth_idf=False)\n",
    "tfidf = transformer.fit_transform(counts)\n",
    "print(tfidf.shape)\n"
   ]
  },
  {
   "cell_type": "code",
   "execution_count": 270,
   "metadata": {},
   "outputs": [
    {
     "name": "stdout",
     "output_type": "stream",
     "text": [
      "['Japan beat Colombia 2-1 in the first round of the World Cup', 'Japan beat Colombia 2-1 in the first round of the World Cup', 'World Cup 2018', 'World Cup 2018', 'World Cup 2018', 'Director of FIFA v error in goal of Sua and says that entity needs to learn', 'The risk of the cartel chapabranca read the editorial of this state Tuesday', 'With lower GDP and more uncertainty, industry cuts investments', 'Alckmin My candidate João Doria', 'New in Russia video referee starts as the big star of the Cup', 'Russia and Egypt face the same goal to make history', 'Anxiety or uncontrollers Unbalance of players after their goal worries', 'Professor hired by the government convinces more than a thousand Russians to smile', 'Covas probe automatic gates that invade in SP', 'Dlar rises to 377 ahead of US-China trade war', 'STF opens today Gleisi trial Dodge seeks conviction', 'A deposit of children separated from their parents and locked in cages', 'Fiocruz initiates research plan for medicinal use of marijuana', 'Received rumor by WhatsApp Send to Estadão Verifica', 'High cost of fixed freight can take R 53 bi out of the economy', 'Low temperatures increase stroke risk study points', 'At the Cannes Lions festival a discussion on masculinity', 'Ana Carla Abro', 'Humberto Werneck']\n"
     ]
    }
   ],
   "source": [
    "from nltk.sentiment.vader import SentimentIntensityAnalyzer\n",
    "from googletrans import Translator\n",
    "# translate into english\n",
    "translator = Translator()\n",
    "headline_en = []\n",
    "\n",
    "for headline in headlines:\n",
    "    headline_en.append(translator.translate(headline).text)\n",
    "\n",
    "print(headline_en)"
   ]
  },
  {
   "cell_type": "code",
   "execution_count": 276,
   "metadata": {},
   "outputs": [
    {
     "name": "stdout",
     "output_type": "stream",
     "text": [
      "{'Japan beat Colombia 2-1 in the first round of the World Cup': {'neg': 0.0, 'neu': 1.0, 'pos': 0.0, 'compound': 0.0}, 'World Cup 2018': {'neg': 0.0, 'neu': 1.0, 'pos': 0.0, 'compound': 0.0}, 'Director of FIFA v error in goal of Sua and says that entity needs to learn': {'neg': 0.162, 'neu': 0.838, 'pos': 0.0, 'compound': -0.4019}, 'The risk of the cartel chapabranca read the editorial of this state Tuesday': {'neg': 0.149, 'neu': 0.851, 'pos': 0.0, 'compound': -0.2732}, 'With lower GDP and more uncertainty, industry cuts investments': {'neg': 0.551, 'neu': 0.449, 'pos': 0.0, 'compound': -0.7474}, 'Alckmin My candidate João Doria': {'neg': 0.0, 'neu': 1.0, 'pos': 0.0, 'compound': 0.0}, 'New in Russia video referee starts as the big star of the Cup': {'neg': 0.0, 'neu': 1.0, 'pos': 0.0, 'compound': 0.0}, 'Russia and Egypt face the same goal to make history': {'neg': 0.0, 'neu': 1.0, 'pos': 0.0, 'compound': 0.0}, 'Anxiety or uncontrollers Unbalance of players after their goal worries': {'neg': 0.36, 'neu': 0.64, 'pos': 0.0, 'compound': -0.5423}, 'Professor hired by the government convinces more than a thousand Russians to smile': {'neg': 0.0, 'neu': 0.704, 'pos': 0.296, 'compound': 0.4939}, 'Covas probe automatic gates that invade in SP': {'neg': 0.0, 'neu': 1.0, 'pos': 0.0, 'compound': 0.0}, 'Dlar rises to 377 ahead of US-China trade war': {'neg': 0.328, 'neu': 0.672, 'pos': 0.0, 'compound': -0.5994}, 'STF opens today Gleisi trial Dodge seeks conviction': {'neg': 0.0, 'neu': 1.0, 'pos': 0.0, 'compound': 0.0}, 'A deposit of children separated from their parents and locked in cages': {'neg': 0.0, 'neu': 1.0, 'pos': 0.0, 'compound': 0.0}, 'Fiocruz initiates research plan for medicinal use of marijuana': {'neg': 0.0, 'neu': 1.0, 'pos': 0.0, 'compound': 0.0}, 'Received rumor by WhatsApp Send to Estadão Verifica': {'neg': 0.0, 'neu': 1.0, 'pos': 0.0, 'compound': 0.0}, 'High cost of fixed freight can take R 53 bi out of the economy': {'neg': 0.0, 'neu': 1.0, 'pos': 0.0, 'compound': 0.0}, 'Low temperatures increase stroke risk study points': {'neg': 0.4, 'neu': 0.381, 'pos': 0.219, 'compound': -0.2263}, 'At the Cannes Lions festival a discussion on masculinity': {'neg': 0.0, 'neu': 0.686, 'pos': 0.314, 'compound': 0.4939}, 'Ana Carla Abro': {'neg': 0.0, 'neu': 1.0, 'pos': 0.0, 'compound': 0.0}, 'Humberto Werneck': {'neg': 0.0, 'neu': 1.0, 'pos': 0.0, 'compound': 0.0}}\n"
     ]
    }
   ],
   "source": [
    "vader_sent = []\n",
    "# analyze valence\n",
    "for headline in headline_en:\n",
    "    sid = SentimentIntensityAnalyzer()\n",
    "    ss = sid.polarity_scores(headline)\n",
    "    vader_sent.append(ss)\n",
    "print(dict(zip(headline_en,vader_sent)))"
   ]
  },
  {
   "cell_type": "code",
   "execution_count": 281,
   "metadata": {},
   "outputs": [
    {
     "name": "stdout",
     "output_type": "stream",
     "text": [
      "I was taken to the movies to watch a captivating movie with adorable characters and lots of fun. I was deceived. {'neg': 0.119, 'neu': 0.615, 'pos': 0.266, 'compound': 0.5574}\n"
     ]
    }
   ],
   "source": [
    "challenge = \"Fui levado ao cinema para ver um filme cativante, com personagens adoráveis e muita diversão. Fui enganado.\"\n",
    "challenge = translator.translate(challenge).text\n",
    "challenge_score = sid.polarity_scores(challenge)\n",
    "print(challenge, challenge_score)"
   ]
  },
  {
   "cell_type": "code",
   "execution_count": null,
   "metadata": {},
   "outputs": [],
   "source": []
  }
 ],
 "metadata": {
  "kernelspec": {
   "display_name": "Python 3",
   "language": "python",
   "name": "python3"
  },
  "language_info": {
   "codemirror_mode": {
    "name": "ipython",
    "version": 3
   },
   "file_extension": ".py",
   "mimetype": "text/x-python",
   "name": "python",
   "nbconvert_exporter": "python",
   "pygments_lexer": "ipython3",
   "version": "3.6.5"
  }
 },
 "nbformat": 4,
 "nbformat_minor": 2
}
